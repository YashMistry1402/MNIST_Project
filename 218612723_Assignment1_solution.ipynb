{
  "nbformat": 4,
  "nbformat_minor": 0,
  "metadata": {
    "accelerator": "GPU",
    "colab": {
      "name": "218612723_Assignment1_solution.ipynb",
      "provenance": [],
      "collapsed_sections": [],
      "toc_visible": true
    },
    "file_extension": ".py",
    "kernelspec": {
      "display_name": "Python 3",
      "language": "python",
      "name": "python3"
    },
    "language_info": {
      "codemirror_mode": {
        "name": "ipython",
        "version": 3
      },
      "file_extension": ".py",
      "mimetype": "text/x-python",
      "name": "python",
      "nbconvert_exporter": "python",
      "pygments_lexer": "ipython3",
      "version": "3.7.1"
    },
    "mimetype": "text/x-python",
    "name": "python",
    "npconvert_exporter": "python",
    "pygments_lexer": "ipython3",
    "version": 3
  },
  "cells": [
    {
      "cell_type": "markdown",
      "metadata": {
        "colab_type": "text",
        "id": "v81NrNYlAzIm"
      },
      "source": [
        "# SIT744 Assignment 1: Image Classification with Deep Feedforward Neural Network\n",
        "\n",
        "<div class=\"alert-info\">\n",
        "    <p>Due: <strong>8pm 24 August 2020</strong>  (Monday)</p>\n",
        "\n",
        "\n",
        "This is an <strong>individual</strong> assignment. It contributes <strong>30%</strong> to your final mark. Read the assignment instruction carefully.\n",
        "\n",
        "<h2> What to submit </h2>\n",
        "\n",
        "<p>\n",
        "This assignment is to be completed individually and submitted to CloudDeakin. <strong>By the due date, you are required to submit the following files to the corresponding Assignment (Dropbox) in CloudDeakin</strong>:\n",
        "\n",
        "<ol>\n",
        "<li>\t<strong>[YourID]_assignment1_solution.ipynp</strong>:  This is your Python notebook solution source file. </li>\n",
        "<li>\t<strong>[YourID]_assingment1_output.html</strong>: This is the output of your Python notebook solution <emph>exported</emph> in HTML format.</li>\n",
        "<li>\tExtra files needed to complete your assignment, if any (e.g., images used in your answers).</li>\n",
        "</ol>\n",
        "</p>\n",
        "\n",
        "<p>\n",
        "For example, if your student ID is: 123456, you will then need to submit the following files:\n",
        "<ul>\n",
        "<li> 123456_assignment1_solution.ipynp </li>\n",
        "<li> 123456_assignment1_output.html</li>\n",
        "</ul>\n",
        "</p>\n",
        "\n",
        "<h2> Marking criteria </h2>\n",
        "\n",
        "<p>\n",
        "Your submission will be marked using the following criteria.\n",
        "\n",
        "<ul>\n",
        "<li> Showing good effort through completed tasks.</li>\n",
        "<li> Applying deep learning theory to design suitable deep learning solutions for the tasks.</li>\n",
        "<li> Critically evaluating and reflecting on the pros and cons of various design decisions.</li>\n",
        "<li> Demonstrating creativity and resourcefulness in providing unique individual solutions.</li>\n",
        "<li> Showing attention to details through a good quality assignment report.</li>\n",
        "</ul>\n",
        "</p>\n",
        "\n",
        "<p>\n",
        "Indicative weights of various tasks are provided, but the assignment will be marked by the overall quality per the above criteria.\n",
        "</p>\n",
        "</div>"
      ]
    },
    {
      "cell_type": "markdown",
      "metadata": {
        "colab_type": "text",
        "id": "JOr2bP8kAzKE"
      },
      "source": [
        "## Assignment objective\n",
        "\n",
        "\n",
        "\n",
        "This assignment is for you to demonstrate the knowledge in deep learning that you have acquired from the lectures and practical lab materials. Most tasks in this assignment are straightforward applications of the practical materials in weeks 1-5. Going through these materials before attempting this assignment is highly recommended.\n",
        "\n",
        "In this assignment, you are going to work with the Fashion-MNIST dataset for image recognition. The dataset contains 10 classes of 28x28 grayscale images. You will see some examples in the visualization task below. \n",
        "\n",
        "This assignment consists of five tasks.\n"
      ]
    },
    {
      "cell_type": "code",
      "metadata": {
        "id": "y2-w6noIuz6i",
        "colab_type": "code",
        "colab": {}
      },
      "source": [
        "!pip install -q -U tensorflow>=1.8.0\n",
        "import tensorflow as tf\n",
        "\n",
        "import numpy as np\n",
        "import matplotlib.pyplot as plt"
      ],
      "execution_count": 101,
      "outputs": []
    },
    {
      "cell_type": "markdown",
      "metadata": {
        "colab_type": "text",
        "id": "cDqvFgbRAzKG"
      },
      "source": [
        "## Task 1 Load the data\n",
        "\n",
        "*(weight ~5%)*\n",
        "\n",
        "Load the Fashion MNIST dataset (https://github.com/zalandoresearch/fashion-mnist). You may get the data via Keras (keras.datasets) or Tensorflow Datasets (tfds). "
      ]
    },
    {
      "cell_type": "code",
      "metadata": {
        "id": "Dzzl3lZgux1v",
        "colab_type": "code",
        "colab": {}
      },
      "source": [
        "# Load the fashion-mnist pre-shuffled train data and test data\n",
        "(x_train, y_train), (x_test, y_test) = tf.keras.datasets.fashion_mnist.load_data()"
      ],
      "execution_count": 102,
      "outputs": []
    },
    {
      "cell_type": "markdown",
      "metadata": {
        "colab_type": "text",
        "id": "nFbty6i5AzKm"
      },
      "source": [
        "## Task 2 Understand the data\n",
        "\n",
        "*(weight ~15%)*\n",
        "\n"
      ]
    },
    {
      "cell_type": "markdown",
      "metadata": {
        "colab_type": "text",
        "id": "PLYAtx-ZAzKo"
      },
      "source": [
        "Display 100 images from the train set in the form of 10x10 matrix.\n",
        "\n",
        "Answer the following questions:\n",
        "\n",
        "1. What are the unique labels in this dataset?\n",
        "2. How many training images and how many test images?\n",
        "3. What is the size of each image?\n",
        "4. Find out the numeric range of the input. Do we need to rescale the input?\n",
        "5. In our problem, what are the shapes of input tensors and target tensors? Do you need to reshape the input?\n"
      ]
    },
    {
      "cell_type": "code",
      "metadata": {
        "id": "RhffUsZavp-2",
        "colab_type": "code",
        "colab": {
          "base_uri": "https://localhost:8080/",
          "height": 52
        },
        "outputId": "a1d11368-dc32-45bd-db5e-68a65042a129"
      },
      "source": [
        "# Printing the number of training dataset and testing datasets\n",
        "print(\"x_train shape:\", x_train.shape)\n",
        "print(\"y_train shape:\", y_train.shape)"
      ],
      "execution_count": 103,
      "outputs": [
        {
          "output_type": "stream",
          "text": [
            "x_train shape: (60000, 28, 28)\n",
            "y_train shape: (60000,)\n"
          ],
          "name": "stdout"
        }
      ]
    },
    {
      "cell_type": "markdown",
      "metadata": {
        "id": "OSCV-pG6ACV-",
        "colab_type": "text"
      },
      "source": [
        "Ans 2. there are 60000 image sin train data and 10000 images in test data.\n"
      ]
    },
    {
      "cell_type": "markdown",
      "metadata": {
        "id": "bqXqebsuBkDP",
        "colab_type": "text"
      },
      "source": [
        "ANS 3. The size of each image is 28*28 as seen by the train.shape code\n"
      ]
    },
    {
      "cell_type": "markdown",
      "metadata": {
        "id": "wuji1IC5CFt3",
        "colab_type": "text"
      },
      "source": [
        "Ans 4. No we do not need to recale the input, but we still will be rescaling just in case\n"
      ]
    },
    {
      "cell_type": "code",
      "metadata": {
        "id": "l32k20OTwuXf",
        "colab_type": "code",
        "colab": {
          "base_uri": "https://localhost:8080/",
          "height": 300
        },
        "outputId": "93089c96-31d1-453b-dc0c-45b87ba3586a"
      },
      "source": [
        "# Here we will define the text labels\n",
        "# the index starts from 0 \n",
        "fashion_mnist_labels = [\"T-shirt/top\",\"Trouser\",\"Pullover\",\"Dress\",\"Coat\",\"Sandal\",\"Shirt\",\"Sneaker\",\"Bag\",\"Ankle boot\"]   \n",
        "\n",
        "# Image index, you can pick any number\n",
        "img_ind = 5\n",
        "\n",
        "\n",
        "\n",
        "# y_train will contains the lables\n",
        "# It should be ranging from 0 to 9\n",
        "label_ind = y_train[img_ind]\n",
        "\n",
        "\n",
        "\n",
        "# Printing the label\n",
        "print (\"y = \" + str(label_ind) + \" \" +(fashion_mnist_labels[label_ind]))\n",
        "\n",
        " \n",
        "# Show one of the images from the training dataset #pullover\n",
        "plt.imshow(x_train[img_ind])"
      ],
      "execution_count": 104,
      "outputs": [
        {
          "output_type": "stream",
          "text": [
            "y = 2 Pullover\n"
          ],
          "name": "stdout"
        },
        {
          "output_type": "execute_result",
          "data": {
            "text/plain": [
              "<matplotlib.image.AxesImage at 0x7fab765c1518>"
            ]
          },
          "metadata": {
            "tags": []
          },
          "execution_count": 104
        },
        {
          "output_type": "display_data",
          "data": {
            "image/png": "[encoded data removed]",
            "text/plain": [
              "<Figure size 432x288 with 1 Axes>"
            ]
          },
          "metadata": {
            "tags": [],
            "needs_background": "light"
          }
        }
      ]
    },
    {
      "cell_type": "markdown",
      "metadata": {
        "colab_type": "text",
        "id": "-tkl-PwsrXip"
      },
      "source": [
        "## Task 3 Construct an input pipeline\n",
        "\n",
        "*(weight ~15%)*\n",
        "\n",
        "Creat train/validate/test data splits and construct tf.data pipelines. Make sure that the training data is batched.\n"
      ]
    },
    {
      "cell_type": "code",
      "metadata": {
        "id": "BOBJOhIl7HUz",
        "colab_type": "code",
        "colab": {}
      },
      "source": [
        "#we rescale the model for smoothness \n",
        "x_train = x_train.astype('float32') / 255\n",
        "x_test = x_test.astype('float32') / 255"
      ],
      "execution_count": 105,
      "outputs": []
    },
    {
      "cell_type": "code",
      "metadata": {
        "id": "idkndQd-7G_O",
        "colab_type": "code",
        "colab": {}
      },
      "source": [
        "# Here we break training data into training dataset and validation sets \n",
        "# i decided to put 10000 data into validation set and keep remaining 50,000 for training set\n",
        "(x_train, x_valid) = x_train[10000:], x_train[:10000] \n",
        "(y_train, y_valid) = y_train[10000:], y_train[:10000]\n"
      ],
      "execution_count": 106,
      "outputs": []
    },
    {
      "cell_type": "code",
      "metadata": {
        "id": "FqZrv0CPC4C4",
        "colab_type": "code",
        "colab": {}
      },
      "source": [
        "# Reshaping input data from (28, 28) to (28, 28, 1)\n",
        "w, h = 28, 28\n",
        "x_train = x_train.reshape(x_train.shape[0], w, h, 1)\n",
        "x_valid = x_valid.reshape(x_valid.shape[0], w, h, 1)\n",
        "x_test = x_test.reshape(x_test.shape[0], w, h, 1)\n",
        "\n",
        "y_train = tf.keras.utils.to_categorical(y_train, 10)\n",
        "y_valid = tf.keras.utils.to_categorical(y_valid, 10)\n",
        "y_test = tf.keras.utils.to_categorical(y_test, 10)\n"
      ],
      "execution_count": 107,
      "outputs": []
    },
    {
      "cell_type": "code",
      "metadata": {
        "id": "JKDOJa8aC7T2",
        "colab_type": "code",
        "colab": {
          "base_uri": "https://localhost:8080/",
          "height": 52
        },
        "outputId": "421a4794-8b11-4293-a83f-97326cf14b23"
      },
      "source": [
        "# Printing the training dataset shape\n",
        "print(\"x_train shape:\", x_train.shape)\n",
        "print(\"y_train shape:\", y_train.shape)\n"
      ],
      "execution_count": 108,
      "outputs": [
        {
          "output_type": "stream",
          "text": [
            "x_train shape: (50000, 28, 28, 1)\n",
            "y_train shape: (50000, 10)\n"
          ],
          "name": "stdout"
        }
      ]
    },
    {
      "cell_type": "code",
      "metadata": {
        "id": "QMlP_s826wVe",
        "colab_type": "code",
        "colab": {
          "base_uri": "https://localhost:8080/",
          "height": 69
        },
        "outputId": "8e81b5e8-6d78-41cc-c3ae-2acbbae5cd79"
      },
      "source": [
        "# Print the number of training set \n",
        "print(x_train.shape[0], 'train set')\n",
        "# Print the number of validation\n",
        "print(x_valid.shape[0], 'validation set')\n",
        "# Print the number of test datasets\n",
        "print(x_test.shape[0], 'test set')"
      ],
      "execution_count": 109,
      "outputs": [
        {
          "output_type": "stream",
          "text": [
            "50000 train set\n",
            "10000 validation set\n",
            "10000 test set\n"
          ],
          "name": "stdout"
        }
      ]
    },
    {
      "cell_type": "markdown",
      "metadata": {
        "colab_type": "text",
        "id": "lnE7ZFS_AzLg"
      },
      "source": [
        "## Task 4 Construct a deep forward neural network\n",
        "\n",
        "*(weight ~35%)*"
      ]
    },
    {
      "cell_type": "markdown",
      "metadata": {
        "colab_type": "text",
        "id": "ChlhkwhkAzLi"
      },
      "source": [
        "### Task 4.1 Setting up a model for training"
      ]
    },
    {
      "cell_type": "markdown",
      "metadata": {
        "colab_type": "text",
        "id": "yuxhQM6jAzLl"
      },
      "source": [
        "Construct a deep feedforward neural network. You need to decide and report the following configurations:\n",
        "\n",
        "- Output layer: \n",
        "    - How many output nodes?\n",
        "    - Which activation function?\n",
        "- Hidden layers:\n",
        "    - How many hidden layers?\n",
        "    - How many nodes in each layer?\n",
        "    - Which activation function for each layer?\n",
        "- Input layer\n",
        "    - What is the input size?\n",
        "- The loss function\n",
        "- The metrics for model evaluation (which may be different from the loss function)\n",
        "- The optimiser\n",
        "\n",
        "Justify your model design decisions.\n",
        "\n",
        "Plot the model structure `using keras.utils.plot_model` or similar tools."
      ]
    },
    {
      "cell_type": "markdown",
      "metadata": {
        "id": "TRLkyEbI6vfc",
        "colab_type": "text"
      },
      "source": [
        "**All the questions above can be anwered by the code and the explaination below with the help of the produced table and the structure generated by using keras.utils.plot_model**\n",
        "\n"
      ]
    },
    {
      "cell_type": "code",
      "metadata": {
        "id": "NiF-9bH5hTIp",
        "colab_type": "code",
        "colab": {
          "base_uri": "https://localhost:8080/",
          "height": 1000
        },
        "outputId": "1266e104-6f70-4880-db49-0637518a5dd6"
      },
      "source": [
        "model = tf.keras.Sequential()\n",
        "\n",
        "# we will define the shape of the input in the first layer of the neural network\n",
        "model.add(tf.keras.layers.Conv2D(filters=64, kernel_size=2, padding='same', activation='relu', input_shape=(28,28,1))) \n",
        "model.add(tf.keras.layers.MaxPooling2D(pool_size=2))\n",
        "model.add(tf.keras.layers.Dropout(0.3))\n",
        "\n",
        "model.add(tf.keras.layers.Conv2D(filters=32, kernel_size=2, padding='same', activation='relu'))\n",
        "model.add(tf.keras.layers.MaxPooling2D(pool_size=2))\n",
        "model.add(tf.keras.layers.Dropout(0.3))\n",
        "\n",
        "model.add(tf.keras.layers.Flatten())\n",
        "model.add(tf.keras.layers.Dense(256, activation='relu'))\n",
        "model.add(tf.keras.layers.Dropout(0.5))\n",
        "model.add(tf.keras.layers.Dense(10, activation='softmax'))\n",
        "\n",
        "# taking a look at the summary of our model\n",
        "model.summary()\n",
        "\n",
        "tf.keras.utils.plot_model(\n",
        "    model, to_file='model.png', show_shapes=False, show_layer_names=True,\n",
        "    rankdir='TB', expand_nested=False, dpi=96\n",
        ")"
      ],
      "execution_count": 110,
      "outputs": [
        {
          "output_type": "stream",
          "text": [
            "Model: \"sequential_8\"\n",
            "_________________________________________________________________\n",
            "Layer (type)                 Output Shape              Param #   \n",
            "=================================================================\n",
            "conv2d_14 (Conv2D)           (None, 28, 28, 64)        320       \n",
            "_________________________________________________________________\n",
            "max_pooling2d_14 (MaxPooling (None, 14, 14, 64)        0         \n",
            "_________________________________________________________________\n",
            "dropout_21 (Dropout)         (None, 14, 14, 64)        0         \n",
            "_________________________________________________________________\n",
            "conv2d_15 (Conv2D)           (None, 14, 14, 32)        8224      \n",
            "_________________________________________________________________\n",
            "max_pooling2d_15 (MaxPooling (None, 7, 7, 32)          0         \n",
            "_________________________________________________________________\n",
            "dropout_22 (Dropout)         (None, 7, 7, 32)          0         \n",
            "_________________________________________________________________\n",
            "flatten_7 (Flatten)          (None, 1568)              0         \n",
            "_________________________________________________________________\n",
            "dense_16 (Dense)             (None, 256)               401664    \n",
            "_________________________________________________________________\n",
            "dropout_23 (Dropout)         (None, 256)               0         \n",
            "_________________________________________________________________\n",
            "dense_17 (Dense)             (None, 10)                2570      \n",
            "=================================================================\n",
            "Total params: 412,778\n",
            "Trainable params: 412,778\n",
            "Non-trainable params: 0\n",
            "_________________________________________________________________\n"
          ],
          "name": "stdout"
        },
        {
          "output_type": "execute_result",
          "data": {
            "image/png": "[encoded data removed]",
            "text/plain": [
              "<IPython.core.display.Image object>"
            ]
          },
          "metadata": {
            "tags": []
          },
          "execution_count": 110
        }
      ]
    },
    {
      "cell_type": "markdown",
      "metadata": {
        "id": "QJ4riVIKhuK0",
        "colab_type": "text"
      },
      "source": [
        "**Compiling the model**"
      ]
    },
    {
      "cell_type": "code",
      "metadata": {
        "id": "RtzymdzChr-u",
        "colab_type": "code",
        "colab": {}
      },
      "source": [
        "model.compile(loss='categorical_crossentropy',\n",
        "             optimizer='adam',\n",
        "             metrics=['accuracy'])"
      ],
      "execution_count": 111,
      "outputs": []
    },
    {
      "cell_type": "markdown",
      "metadata": {
        "colab_type": "text",
        "id": "MZ2BVK5tAzMM"
      },
      "source": [
        "### Task 4.2 Fitting the model\n",
        "\n",
        "Now fit the model. Decide and report the following training setting:\n",
        "\n",
        "1. The training batch size\n",
        "2. The number of training epochs (at least 1,000 epochs recommended)\n",
        "3. The learning rate. If you used momentum or a learning rate schedule, please report the configuration as well.\n",
        "\n",
        "Plot the training and validation loss and accuracy. Answer the following questions:\n",
        "\n",
        "1. Do you see overfitting or underfitting? Why?\n",
        "2. If you see overfitting, at which epoch did it happen?"
      ]
    },
    {
      "cell_type": "markdown",
      "metadata": {
        "id": "4vGYVK9X7-nt",
        "colab_type": "text"
      },
      "source": [
        "** The batch size and the number of epoch is visible in the below code.**\n",
        "**i have noticed overfitting at epoch 13**"
      ]
    },
    {
      "cell_type": "code",
      "metadata": {
        "id": "Rri__a5BiNX4",
        "colab_type": "code",
        "colab": {
          "base_uri": "https://localhost:8080/",
          "height": 1000
        },
        "outputId": "856483b0-a3be-454b-e98d-6cd69f9fec51"
      },
      "source": [
        "from keras.callbacks import ModelCheckpoint\n",
        "\n",
        "checkpointer = ModelCheckpoint(filepath='model.weights.best.hdf5', verbose = 1, save_best_only=True)\n",
        "model.fit(x_train,\n",
        "         y_train,\n",
        "         batch_size=64,\n",
        "         epochs=25,\n",
        "# the number of epoch is reduced due to low gpu power computer, with high end power machine the number can be increased.\n",
        "# i choose 25 epoch runs for my best accuracy and performace of my machine (it took 3 min for 25 epoch runs)\n",
        "         validation_data=(x_valid, y_valid),\n",
        "         callbacks=[checkpointer])"
      ],
      "execution_count": 112,
      "outputs": [
        {
          "output_type": "stream",
          "text": [
            "Epoch 1/25\n",
            "770/782 [============================>.] - ETA: 0s - loss: 0.6346 - accuracy: 0.7640\n",
            "Epoch 00001: val_loss improved from inf to 0.40966, saving model to model.weights.best.hdf5\n",
            "782/782 [==============================] - 4s 5ms/step - loss: 0.6322 - accuracy: 0.7650 - val_loss: 0.4097 - val_accuracy: 0.8508\n",
            "Epoch 2/25\n",
            "777/782 [============================>.] - ETA: 0s - loss: 0.4257 - accuracy: 0.8430\n",
            "Epoch 00002: val_loss improved from 0.40966 to 0.35343, saving model to model.weights.best.hdf5\n",
            "782/782 [==============================] - 4s 5ms/step - loss: 0.4259 - accuracy: 0.8429 - val_loss: 0.3534 - val_accuracy: 0.8717\n",
            "Epoch 3/25\n",
            "774/782 [============================>.] - ETA: 0s - loss: 0.3877 - accuracy: 0.8577\n",
            "Epoch 00003: val_loss improved from 0.35343 to 0.31268, saving model to model.weights.best.hdf5\n",
            "782/782 [==============================] - 4s 5ms/step - loss: 0.3873 - accuracy: 0.8578 - val_loss: 0.3127 - val_accuracy: 0.8833\n",
            "Epoch 4/25\n",
            "772/782 [============================>.] - ETA: 0s - loss: 0.3605 - accuracy: 0.8684\n",
            "Epoch 00004: val_loss improved from 0.31268 to 0.29216, saving model to model.weights.best.hdf5\n",
            "782/782 [==============================] - 4s 5ms/step - loss: 0.3606 - accuracy: 0.8686 - val_loss: 0.2922 - val_accuracy: 0.8925\n",
            "Epoch 5/25\n",
            "779/782 [============================>.] - ETA: 0s - loss: 0.3420 - accuracy: 0.8749\n",
            "Epoch 00005: val_loss improved from 0.29216 to 0.28546, saving model to model.weights.best.hdf5\n",
            "782/782 [==============================] - 4s 5ms/step - loss: 0.3419 - accuracy: 0.8749 - val_loss: 0.2855 - val_accuracy: 0.8939\n",
            "Epoch 6/25\n",
            "770/782 [============================>.] - ETA: 0s - loss: 0.3236 - accuracy: 0.8812\n",
            "Epoch 00006: val_loss improved from 0.28546 to 0.26190, saving model to model.weights.best.hdf5\n",
            "782/782 [==============================] - 4s 5ms/step - loss: 0.3231 - accuracy: 0.8814 - val_loss: 0.2619 - val_accuracy: 0.9029\n",
            "Epoch 7/25\n",
            "772/782 [============================>.] - ETA: 0s - loss: 0.3133 - accuracy: 0.8861\n",
            "Epoch 00007: val_loss improved from 0.26190 to 0.26146, saving model to model.weights.best.hdf5\n",
            "782/782 [==============================] - 4s 5ms/step - loss: 0.3135 - accuracy: 0.8860 - val_loss: 0.2615 - val_accuracy: 0.9059\n",
            "Epoch 8/25\n",
            "777/782 [============================>.] - ETA: 0s - loss: 0.3014 - accuracy: 0.8890\n",
            "Epoch 00008: val_loss improved from 0.26146 to 0.25181, saving model to model.weights.best.hdf5\n",
            "782/782 [==============================] - 4s 5ms/step - loss: 0.3012 - accuracy: 0.8890 - val_loss: 0.2518 - val_accuracy: 0.9077\n",
            "Epoch 9/25\n",
            "774/782 [============================>.] - ETA: 0s - loss: 0.2936 - accuracy: 0.8910\n",
            "Epoch 00009: val_loss improved from 0.25181 to 0.24571, saving model to model.weights.best.hdf5\n",
            "782/782 [==============================] - 4s 5ms/step - loss: 0.2940 - accuracy: 0.8909 - val_loss: 0.2457 - val_accuracy: 0.9076\n",
            "Epoch 10/25\n",
            "780/782 [============================>.] - ETA: 0s - loss: 0.2818 - accuracy: 0.8965\n",
            "Epoch 00010: val_loss improved from 0.24571 to 0.23657, saving model to model.weights.best.hdf5\n",
            "782/782 [==============================] - 4s 5ms/step - loss: 0.2817 - accuracy: 0.8965 - val_loss: 0.2366 - val_accuracy: 0.9109\n",
            "Epoch 11/25\n",
            "771/782 [============================>.] - ETA: 0s - loss: 0.2736 - accuracy: 0.8995\n",
            "Epoch 00011: val_loss did not improve from 0.23657\n",
            "782/782 [==============================] - 4s 5ms/step - loss: 0.2737 - accuracy: 0.8996 - val_loss: 0.2399 - val_accuracy: 0.9091\n",
            "Epoch 12/25\n",
            "779/782 [============================>.] - ETA: 0s - loss: 0.2681 - accuracy: 0.9003\n",
            "Epoch 00012: val_loss improved from 0.23657 to 0.22646, saving model to model.weights.best.hdf5\n",
            "782/782 [==============================] - 4s 5ms/step - loss: 0.2684 - accuracy: 0.9002 - val_loss: 0.2265 - val_accuracy: 0.9154\n",
            "Epoch 13/25\n",
            "772/782 [============================>.] - ETA: 0s - loss: 0.2621 - accuracy: 0.9019\n",
            "Epoch 00013: val_loss did not improve from 0.22646\n",
            "782/782 [==============================] - 4s 5ms/step - loss: 0.2618 - accuracy: 0.9021 - val_loss: 0.2308 - val_accuracy: 0.9134\n",
            "Epoch 14/25\n",
            "779/782 [============================>.] - ETA: 0s - loss: 0.2543 - accuracy: 0.9043\n",
            "Epoch 00014: val_loss improved from 0.22646 to 0.22142, saving model to model.weights.best.hdf5\n",
            "782/782 [==============================] - 4s 5ms/step - loss: 0.2541 - accuracy: 0.9044 - val_loss: 0.2214 - val_accuracy: 0.9176\n",
            "Epoch 15/25\n",
            "778/782 [============================>.] - ETA: 0s - loss: 0.2498 - accuracy: 0.9085\n",
            "Epoch 00015: val_loss did not improve from 0.22142\n",
            "782/782 [==============================] - 3s 4ms/step - loss: 0.2498 - accuracy: 0.9086 - val_loss: 0.2496 - val_accuracy: 0.9042\n",
            "Epoch 16/25\n",
            "771/782 [============================>.] - ETA: 0s - loss: 0.2461 - accuracy: 0.9093\n",
            "Epoch 00016: val_loss improved from 0.22142 to 0.21578, saving model to model.weights.best.hdf5\n",
            "782/782 [==============================] - 4s 5ms/step - loss: 0.2453 - accuracy: 0.9096 - val_loss: 0.2158 - val_accuracy: 0.9204\n",
            "Epoch 17/25\n",
            "771/782 [============================>.] - ETA: 0s - loss: 0.2389 - accuracy: 0.9101\n",
            "Epoch 00017: val_loss improved from 0.21578 to 0.21012, saving model to model.weights.best.hdf5\n",
            "782/782 [==============================] - 4s 4ms/step - loss: 0.2395 - accuracy: 0.9101 - val_loss: 0.2101 - val_accuracy: 0.9217\n",
            "Epoch 18/25\n",
            "774/782 [============================>.] - ETA: 0s - loss: 0.2375 - accuracy: 0.9113\n",
            "Epoch 00018: val_loss did not improve from 0.21012\n",
            "782/782 [==============================] - 4s 4ms/step - loss: 0.2372 - accuracy: 0.9114 - val_loss: 0.2185 - val_accuracy: 0.9170\n",
            "Epoch 19/25\n",
            "781/782 [============================>.] - ETA: 0s - loss: 0.2363 - accuracy: 0.9128\n",
            "Epoch 00019: val_loss did not improve from 0.21012\n",
            "782/782 [==============================] - 4s 4ms/step - loss: 0.2363 - accuracy: 0.9128 - val_loss: 0.2130 - val_accuracy: 0.9215\n",
            "Epoch 20/25\n",
            "776/782 [============================>.] - ETA: 0s - loss: 0.2331 - accuracy: 0.9136\n",
            "Epoch 00020: val_loss improved from 0.21012 to 0.20963, saving model to model.weights.best.hdf5\n",
            "782/782 [==============================] - 3s 4ms/step - loss: 0.2335 - accuracy: 0.9134 - val_loss: 0.2096 - val_accuracy: 0.9211\n",
            "Epoch 21/25\n",
            "770/782 [============================>.] - ETA: 0s - loss: 0.2256 - accuracy: 0.9156\n",
            "Epoch 00021: val_loss did not improve from 0.20963\n",
            "782/782 [==============================] - 3s 4ms/step - loss: 0.2267 - accuracy: 0.9154 - val_loss: 0.2394 - val_accuracy: 0.9077\n",
            "Epoch 22/25\n",
            "780/782 [============================>.] - ETA: 0s - loss: 0.2259 - accuracy: 0.9159\n",
            "Epoch 00022: val_loss improved from 0.20963 to 0.20406, saving model to model.weights.best.hdf5\n",
            "782/782 [==============================] - 4s 5ms/step - loss: 0.2257 - accuracy: 0.9160 - val_loss: 0.2041 - val_accuracy: 0.9247\n",
            "Epoch 23/25\n",
            "775/782 [============================>.] - ETA: 0s - loss: 0.2231 - accuracy: 0.9163\n",
            "Epoch 00023: val_loss improved from 0.20406 to 0.20392, saving model to model.weights.best.hdf5\n",
            "782/782 [==============================] - 3s 4ms/step - loss: 0.2229 - accuracy: 0.9163 - val_loss: 0.2039 - val_accuracy: 0.9224\n",
            "Epoch 24/25\n",
            "775/782 [============================>.] - ETA: 0s - loss: 0.2209 - accuracy: 0.9173\n",
            "Epoch 00024: val_loss did not improve from 0.20392\n",
            "782/782 [==============================] - 3s 4ms/step - loss: 0.2212 - accuracy: 0.9171 - val_loss: 0.2091 - val_accuracy: 0.9230\n",
            "Epoch 25/25\n",
            "771/782 [============================>.] - ETA: 0s - loss: 0.2215 - accuracy: 0.9170\n",
            "Epoch 00025: val_loss did not improve from 0.20392\n",
            "782/782 [==============================] - 3s 4ms/step - loss: 0.2214 - accuracy: 0.9170 - val_loss: 0.2095 - val_accuracy: 0.9224\n"
          ],
          "name": "stdout"
        },
        {
          "output_type": "execute_result",
          "data": {
            "text/plain": [
              "<tensorflow.python.keras.callbacks.History at 0x7fab7652ef98>"
            ]
          },
          "metadata": {
            "tags": []
          },
          "execution_count": 112
        }
      ]
    },
    {
      "cell_type": "code",
      "metadata": {
        "id": "EyuKaYHsx75x",
        "colab_type": "code",
        "colab": {}
      },
      "source": [
        "model.load_weights('model.weights.best.hdf5')"
      ],
      "execution_count": 113,
      "outputs": []
    },
    {
      "cell_type": "code",
      "metadata": {
        "id": "dY3YyvRMx-vD",
        "colab_type": "code",
        "colab": {
          "base_uri": "https://localhost:8080/",
          "height": 52
        },
        "outputId": "81d3eed5-85d0-47ff-bf25-d2715a765bbb"
      },
      "source": [
        "score = model.evaluate(x_test, y_test, verbose=0)\n",
        "\n",
        "# Printing the test accuracy\n",
        "print('\\n', 'Test accuracy:', score[1])"
      ],
      "execution_count": 114,
      "outputs": [
        {
          "output_type": "stream",
          "text": [
            "\n",
            " Test accuracy: 0.9200000166893005\n"
          ],
          "name": "stdout"
        }
      ]
    },
    {
      "cell_type": "markdown",
      "metadata": {
        "colab_type": "text",
        "id": "9C2VXCM-4Nw9"
      },
      "source": [
        "### Task 4.3 Check the convergence through gradient\n",
        "\n",
        "Use  TensorBoard to check the gradients. \n",
        "\n",
        "- Do you see vanishing or exploding gradients?\n",
        "- Use the gradient norm to check if the training has converged to a local minimum.\n",
        "\n",
        "Show screenshots of your TensorBoard output."
      ]
    },
    {
      "cell_type": "markdown",
      "metadata": {
        "colab_type": "text",
        "id": "4EgXZCBNAzMs"
      },
      "source": [
        "## Task 5 Fine-tuning the model\n",
        "\n",
        "*(weight ~30%)*\n",
        "\n",
        "You may see above that your model is overfitting. There are multiple things you can do. Below are some options:\n",
        "\n",
        "1. Add dropout\n",
        "2. Add Batch Normalisation\n",
        "3. Add layer-specific weight regularizations\n",
        "4. Change the learning rate\n",
        "\n",
        "Apply different regularisation techniques to the model training. You may also try other techniques for improving training such as learning rate scheduling (see https://www.tensorflow.org/guide/keras/train_and_evaluate#using_learning_rate_schedules).\n",
        "\n",
        "Run **five or more** experiments of different training configurations and record the test accuracy achieved in the Markdown table below. You may modify the table heading to match your experiment design.\n"
      ]
    },
    {
      "cell_type": "markdown",
      "metadata": {
        "colab_type": "text",
        "id": "d1LRIBrEgu92"
      },
      "source": [
        "\n",
        "|Dropout (rate)   | Batch Normalisation (Y/N)  | Optimiser  | Learning Rate  | Number of Epochs   |  Test Accuracy |\n",
        "|---|---|---|---|---|---|\n",
        "|   |   |   |   |   |   |\n",
        "|   |   |   |   |   |   |\n",
        "|   |   |   |   |   |   |\n"
      ]
    },
    {
      "cell_type": "markdown",
      "metadata": {
        "colab_type": "text",
        "id": "dLjJA98Qgxg5"
      },
      "source": [
        "\n",
        "Answer the following questions:\n",
        "\n",
        "1. Which configuration achieved the best test accuracy?\n",
        "2. Which setting had the most impact and which one had the least impact?"
      ]
    },
    {
      "cell_type": "markdown",
      "metadata": {
        "colab_type": "text",
        "id": "UgzZh0jN5ULb"
      },
      "source": [
        "## Task 6 Generate HTML output\n",
        "\n",
        "Use *nbconvert* to convert your completed notebook into an HTML file and name it **[YourID]_assingment1_output.html**."
      ]
    },
    {
      "cell_type": "code",
      "metadata": {
        "id": "vQ3-YmKa0H5B",
        "colab_type": "code",
        "colab": {
          "base_uri": "https://localhost:8080/",
          "height": 364
        },
        "outputId": "6f83566a-d145-4f69-a3ec-1d6c953c039e"
      },
      "source": [
        "pip install nbconvert"
      ],
      "execution_count": 115,
      "outputs": [
        {
          "output_type": "stream",
          "text": [
            "Requirement already satisfied: nbconvert in /usr/local/lib/python3.6/dist-packages (5.6.1)\n",
            "Requirement already satisfied: mistune<2,>=0.8.1 in /usr/local/lib/python3.6/dist-packages (from nbconvert) (0.8.4)\n",
            "Requirement already satisfied: jupyter-core in /usr/local/lib/python3.6/dist-packages (from nbconvert) (4.6.3)\n",
            "Requirement already satisfied: bleach in /usr/local/lib/python3.6/dist-packages (from nbconvert) (3.1.5)\n",
            "Requirement already satisfied: jinja2>=2.4 in /usr/local/lib/python3.6/dist-packages (from nbconvert) (2.11.2)\n",
            "Requirement already satisfied: testpath in /usr/local/lib/python3.6/dist-packages (from nbconvert) (0.4.4)\n",
            "Requirement already satisfied: traitlets>=4.2 in /usr/local/lib/python3.6/dist-packages (from nbconvert) (4.3.3)\n",
            "Requirement already satisfied: pygments in /usr/local/lib/python3.6/dist-packages (from nbconvert) (2.1.3)\n",
            "Requirement already satisfied: nbformat>=4.4 in /usr/local/lib/python3.6/dist-packages (from nbconvert) (5.0.7)\n",
            "Requirement already satisfied: pandocfilters>=1.4.1 in /usr/local/lib/python3.6/dist-packages (from nbconvert) (1.4.2)\n",
            "Requirement already satisfied: entrypoints>=0.2.2 in /usr/local/lib/python3.6/dist-packages (from nbconvert) (0.3)\n",
            "Requirement already satisfied: defusedxml in /usr/local/lib/python3.6/dist-packages (from nbconvert) (0.6.0)\n",
            "Requirement already satisfied: six>=1.9.0 in /usr/local/lib/python3.6/dist-packages (from bleach->nbconvert) (1.15.0)\n",
            "Requirement already satisfied: packaging in /usr/local/lib/python3.6/dist-packages (from bleach->nbconvert) (20.4)\n",
            "Requirement already satisfied: webencodings in /usr/local/lib/python3.6/dist-packages (from bleach->nbconvert) (0.5.1)\n",
            "Requirement already satisfied: MarkupSafe>=0.23 in /usr/local/lib/python3.6/dist-packages (from jinja2>=2.4->nbconvert) (1.1.1)\n",
            "Requirement already satisfied: decorator in /usr/local/lib/python3.6/dist-packages (from traitlets>=4.2->nbconvert) (4.4.2)\n",
            "Requirement already satisfied: ipython-genutils in /usr/local/lib/python3.6/dist-packages (from traitlets>=4.2->nbconvert) (0.2.0)\n",
            "Requirement already satisfied: jsonschema!=2.5.0,>=2.4 in /usr/local/lib/python3.6/dist-packages (from nbformat>=4.4->nbconvert) (2.6.0)\n",
            "Requirement already satisfied: pyparsing>=2.0.2 in /usr/local/lib/python3.6/dist-packages (from packaging->bleach->nbconvert) (2.4.7)\n"
          ],
          "name": "stdout"
        }
      ]
    },
    {
      "cell_type": "code",
      "metadata": {
        "id": "NOhYy7-o04cr",
        "colab_type": "code",
        "colab": {
          "base_uri": "https://localhost:8080/",
          "height": 1000
        },
        "outputId": "6140201e-6e26-489d-8ff1-aea236480a49"
      },
      "source": [
        "!jupyter nbconvert --to html 218612723_Assignment1_solution.ipynb"
      ],
      "execution_count": 116,
      "outputs": [
        {
          "output_type": "stream",
          "text": [
            "[NbConvertApp] WARNING | pattern u'218612723_Assignment1_solution.ipynb' matched no files\n",
            "This application is used to convert notebook files (*.ipynb) to various other\n",
            "formats.\n",
            "\n",
            "WARNING: THE COMMANDLINE INTERFACE MAY CHANGE IN FUTURE RELEASES.\n",
            "\n",
            "Options\n",
            "-------\n",
            "\n",
            "Arguments that take values are actually convenience aliases to full\n",
            "Configurables, whose aliases are listed on the help line. For more information\n",
            "on full configurables, see '--help-all'.\n",
            "\n",
            "--execute\n",
            "    Execute the notebook prior to export.\n",
            "--allow-errors\n",
            "    Continue notebook execution even if one of the cells throws an error and include the error message in the cell output (the default behaviour is to abort conversion). This flag is only relevant if '--execute' was specified, too.\n",
            "--no-input\n",
            "    Exclude input cells and output prompts from converted document. \n",
            "    This mode is ideal for generating code-free reports.\n",
            "--stdout\n",
            "    Write notebook output to stdout instead of files.\n",
            "--stdin\n",
            "    read a single notebook file from stdin. Write the resulting notebook with default basename 'notebook.*'\n",
            "--inplace\n",
            "    Run nbconvert in place, overwriting the existing notebook (only \n",
            "    relevant when converting to notebook format)\n",
            "-y\n",
            "    Answer yes to any questions instead of prompting.\n",
            "--clear-output\n",
            "    Clear output of current file and save in place, \n",
            "    overwriting the existing notebook.\n",
            "--debug\n",
            "    set log level to logging.DEBUG (maximize logging output)\n",
            "--no-prompt\n",
            "    Exclude input and output prompts from converted document.\n",
            "--generate-config\n",
            "    generate default config file\n",
            "--nbformat=<Enum> (NotebookExporter.nbformat_version)\n",
            "    Default: 4\n",
            "    Choices: [1, 2, 3, 4]\n",
            "    The nbformat version to write. Use this to downgrade notebooks.\n",
            "--output-dir=<Unicode> (FilesWriter.build_directory)\n",
            "    Default: ''\n",
            "    Directory to write output(s) to. Defaults to output to the directory of each\n",
            "    notebook. To recover previous default behaviour (outputting to the current\n",
            "    working directory) use . as the flag value.\n",
            "--writer=<DottedObjectName> (NbConvertApp.writer_class)\n",
            "    Default: 'FilesWriter'\n",
            "    Writer class used to write the  results of the conversion\n",
            "--log-level=<Enum> (Application.log_level)\n",
            "    Default: 30\n",
            "    Choices: (0, 10, 20, 30, 40, 50, 'DEBUG', 'INFO', 'WARN', 'ERROR', 'CRITICAL')\n",
            "    Set the log level by value or name.\n",
            "--reveal-prefix=<Unicode> (SlidesExporter.reveal_url_prefix)\n",
            "    Default: u''\n",
            "    The URL prefix for reveal.js (version 3.x). This defaults to the reveal CDN,\n",
            "    but can be any url pointing to a copy  of reveal.js.\n",
            "    For speaker notes to work, this must be a relative path to a local  copy of\n",
            "    reveal.js: e.g., \"reveal.js\".\n",
            "    If a relative path is given, it must be a subdirectory of the current\n",
            "    directory (from which the server is run).\n",
            "    See the usage documentation\n",
            "    (https://nbconvert.readthedocs.io/en/latest/usage.html#reveal-js-html-\n",
            "    slideshow) for more details.\n",
            "--to=<Unicode> (NbConvertApp.export_format)\n",
            "    Default: 'html'\n",
            "    The export format to be used, either one of the built-in formats\n",
            "    ['asciidoc', 'custom', 'html', 'latex', 'markdown', 'notebook', 'pdf',\n",
            "    'python', 'rst', 'script', 'slides'] or a dotted object name that represents\n",
            "    the import path for an `Exporter` class\n",
            "--template=<Unicode> (TemplateExporter.template_file)\n",
            "    Default: u''\n",
            "    Name of the template file to use\n",
            "--output=<Unicode> (NbConvertApp.output_base)\n",
            "    Default: ''\n",
            "    overwrite base name use for output files. can only be used when converting\n",
            "    one notebook at a time.\n",
            "--post=<DottedOrNone> (NbConvertApp.postprocessor_class)\n",
            "    Default: u''\n",
            "    PostProcessor class used to write the results of the conversion\n",
            "--config=<Unicode> (JupyterApp.config_file)\n",
            "    Default: u''\n",
            "    Full path of a config file.\n",
            "\n",
            "To see all available configurables, use `--help-all`\n",
            "\n",
            "Examples\n",
            "--------\n",
            "\n",
            "    The simplest way to use nbconvert is\n",
            "    \n",
            "    > jupyter nbconvert mynotebook.ipynb\n",
            "    \n",
            "    which will convert mynotebook.ipynb to the default format (probably HTML).\n",
            "    \n",
            "    You can specify the export format with `--to`.\n",
            "    Options include ['asciidoc', 'custom', 'html', 'latex', 'markdown', 'notebook', 'pdf', 'python', 'rst', 'script', 'slides'].\n",
            "    \n",
            "    > jupyter nbconvert --to latex mynotebook.ipynb\n",
            "    \n",
            "    Both HTML and LaTeX support multiple output templates. LaTeX includes\n",
            "    'base', 'article' and 'report'.  HTML includes 'basic' and 'full'. You\n",
            "    can specify the flavor of the format used.\n",
            "    \n",
            "    > jupyter nbconvert --to html --template basic mynotebook.ipynb\n",
            "    \n",
            "    You can also pipe the output to stdout, rather than a file\n",
            "    \n",
            "    > jupyter nbconvert mynotebook.ipynb --stdout\n",
            "    \n",
            "    PDF is generated via latex\n",
            "    \n",
            "    > jupyter nbconvert mynotebook.ipynb --to pdf\n",
            "    \n",
            "    You can get (and serve) a Reveal.js-powered slideshow\n",
            "    \n",
            "    > jupyter nbconvert myslides.ipynb --to slides --post serve\n",
            "    \n",
            "    Multiple notebooks can be given at the command line in a couple of \n",
            "    different ways:\n",
            "    \n",
            "    > jupyter nbconvert notebook*.ipynb\n",
            "    > jupyter nbconvert notebook1.ipynb notebook2.ipynb\n",
            "    \n",
            "    or you can specify the notebooks list in a config file, containing::\n",
            "    \n",
            "        c.NbConvertApp.notebooks = [\"my_notebook.ipynb\"]\n",
            "    \n",
            "    > jupyter nbconvert --config mycfg.py\n",
            "\n"
          ],
          "name": "stdout"
        }
      ]
    },
    {
      "cell_type": "markdown",
      "metadata": {
        "colab_type": "text",
        "id": "cWbr7jjEAzNb"
      },
      "source": [
        "---\n",
        "**END OF ASSIGNMENT ONE**\n",
        "\n"
      ]
    }
  ]
}